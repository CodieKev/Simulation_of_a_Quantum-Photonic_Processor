{
 "cells": [
  {
   "cell_type": "code",
   "execution_count": 71,
   "id": "d247efaf",
   "metadata": {},
   "outputs": [],
   "source": [
    "from math import *\n",
    "import numpy as np\n",
    "from itertools import product,permutations\n",
    "from scipy.integrate import quad\n",
    "# from scipy import integrate\n",
    "import matplotlib.pyplot as plt\n",
    "R1 = 1/sqrt(2)\n",
    "T1 = 1j/sqrt(2)\n",
    "R2 = 1/sqrt(2)\n",
    "T2 = 1j/sqrt(2)\n",
    "# R3 = 1\n",
    "# T3 = 0\n",
    "d = 1\n",
    "limit = [-8,12]"
   ]
  },
  {
   "cell_type": "code",
   "execution_count": 72,
   "id": "5bb42823",
   "metadata": {},
   "outputs": [],
   "source": [
    "R = 1/sqrt(2)\n",
    "T = 1j/sqrt(2)\n",
    "s = np.matrix([[R,T,0],[R*T,R**2,T],[T**2,R*T,R]])\n",
    "u = np.transpose(s)"
   ]
  },
  {
   "cell_type": "code",
   "execution_count": 73,
   "id": "6a6ecfdd",
   "metadata": {},
   "outputs": [],
   "source": [
    "def unit_state_transform(u,s,p,t,c,tau):\n",
    "    output_s = []\n",
    "    output_p = []\n",
    "    output_t = []\n",
    "    for k in range(len(s)):\n",
    "        temp_state = s[k]\n",
    "        comb = list(product(range(len(u)), repeat=len(u)))\n",
    "        for i in range(len(comb)):\n",
    "            temp3 = 1\n",
    "            temp_t = [i for i in t[k]]\n",
    "            for j in range(len(comb[i])):\n",
    "                temp3 = p[k]*temp3*u[temp_state[j],comb[i][j]]\n",
    "                if comb[i][j] == c[0]:\n",
    "                    temp_t[j] +=tau[0]\n",
    "                if comb[i][j] == c[1]:\n",
    "                    temp_t[j] +=tau[1]\n",
    "            if temp3 !=0:\n",
    "                output_s.append(list(comb[i]))\n",
    "                output_p.append(temp3)\n",
    "                output_t.append(temp_t)\n",
    "    return(output_s,output_p,output_t)"
   ]
  },
  {
   "cell_type": "code",
   "execution_count": 76,
   "id": "ad7747e9",
   "metadata": {},
   "outputs": [
    {
     "data": {
      "text/plain": [
       "([[0, 0, 1],\n",
       "  [0, 0, 2],\n",
       "  [0, 1, 1],\n",
       "  [0, 1, 2],\n",
       "  [0, 2, 1],\n",
       "  [0, 2, 2],\n",
       "  [1, 0, 1],\n",
       "  [1, 0, 2],\n",
       "  [1, 1, 1],\n",
       "  [1, 1, 2],\n",
       "  [1, 2, 1],\n",
       "  [1, 2, 2],\n",
       "  [2, 0, 1],\n",
       "  [2, 0, 2],\n",
       "  [2, 1, 1],\n",
       "  [2, 1, 2],\n",
       "  [2, 2, 1],\n",
       "  [2, 2, 2]],\n",
       " [(-0.3535533905932737+0j),\n",
       "  0.3535533905932737j,\n",
       "  0.24999999999999992j,\n",
       "  (0.24999999999999992+0j),\n",
       "  (-0.24999999999999992+0j),\n",
       "  0.24999999999999992j,\n",
       "  (-0-0.24999999999999992j),\n",
       "  (-0.24999999999999992+0j),\n",
       "  (-0.17677669529663678+0j),\n",
       "  0.17677669529663678j,\n",
       "  (-0-0.17677669529663678j),\n",
       "  (-0.17677669529663678+0j),\n",
       "  (0.24999999999999992+0j),\n",
       "  -0.24999999999999992j,\n",
       "  (-0-0.17677669529663678j),\n",
       "  (-0.17677669529663678+0j),\n",
       "  (0.17677669529663678+0j),\n",
       "  -0.17677669529663678j],\n",
       " [[0, 2, 4],\n",
       "  [0, 2, 4],\n",
       "  [0, 2, 4],\n",
       "  [0, 2, 4],\n",
       "  [0, 2, 4],\n",
       "  [0, 2, 4],\n",
       "  [0, 2, 4],\n",
       "  [0, 2, 4],\n",
       "  [0, 2, 4],\n",
       "  [0, 2, 4],\n",
       "  [0, 2, 4],\n",
       "  [0, 2, 4],\n",
       "  [0, 2, 4],\n",
       "  [0, 2, 4],\n",
       "  [0, 2, 4],\n",
       "  [0, 2, 4],\n",
       "  [0, 2, 4],\n",
       "  [0, 2, 4]])"
      ]
     },
     "execution_count": 76,
     "metadata": {},
     "output_type": "execute_result"
    }
   ],
   "source": [
    "unit_state_transform(u,[[0,1,2]],[1],[[0,2,4]],[0,1],[0,0])"
   ]
  },
  {
   "cell_type": "code",
   "execution_count": 77,
   "id": "d984daa6",
   "metadata": {},
   "outputs": [],
   "source": [
    "def id_state(temp1,pstate,time):\n",
    "    temp2 = []\n",
    "    ptemp = []\n",
    "    time_temp = [] \n",
    "    l = len(temp1)\n",
    "    while l >0:\n",
    "        temp3 = temp1[0]\n",
    "        temp4 = []\n",
    "        temp5 = []\n",
    "        for j in range(len(temp1)):\n",
    "            if sorted(temp1[j]) == sorted(temp3):\n",
    "                temp4.append(temp1[j])\n",
    "                temp5.append(j)\n",
    "        temp2.append(temp4)\n",
    "        temp1 = [x for x in temp1 if (x not in temp4)]\n",
    "        ptemp.append([pstate[x] for x in temp5])\n",
    "        time_temp.append([time[x] for x in temp5])\n",
    "        pstate = [pstate[x] for x in range(len(pstate)) if (x not in temp5)]\n",
    "        time = [time[x] for x in range(len(time)) if (x not in temp5)]\n",
    "        l = len(temp1)\n",
    "    return(temp2,ptemp,time_temp)"
   ]
  },
  {
   "cell_type": "code",
   "execution_count": 78,
   "id": "9d950dbf",
   "metadata": {},
   "outputs": [
    {
     "data": {
      "text/plain": [
       "([[[0, 0, 1]],\n",
       "  [[0, 0, 2]],\n",
       "  [[0, 1, 1], [1, 0, 1]],\n",
       "  [[0, 1, 2], [0, 2, 1], [1, 0, 2], [2, 0, 1]],\n",
       "  [[0, 2, 2], [2, 0, 2]],\n",
       "  [[1, 1, 1]],\n",
       "  [[1, 1, 2], [1, 2, 1], [2, 1, 1]],\n",
       "  [[1, 2, 2], [2, 1, 2], [2, 2, 1]],\n",
       "  [[2, 2, 2]]],\n",
       " [[(-0.3535533905932737+0j)],\n",
       "  [0.3535533905932737j],\n",
       "  [0.24999999999999992j, (-0-0.24999999999999992j)],\n",
       "  [(0.24999999999999992+0j),\n",
       "   (-0.24999999999999992+0j),\n",
       "   (-0.24999999999999992+0j),\n",
       "   (0.24999999999999992+0j)],\n",
       "  [0.24999999999999992j, -0.24999999999999992j],\n",
       "  [(-0.17677669529663678+0j)],\n",
       "  [0.17677669529663678j, (-0-0.17677669529663678j), (-0-0.17677669529663678j)],\n",
       "  [(-0.17677669529663678+0j),\n",
       "   (-0.17677669529663678+0j),\n",
       "   (0.17677669529663678+0j)],\n",
       "  [-0.17677669529663678j]],\n",
       " [[[0, 2, 4]],\n",
       "  [[0, 2, 4]],\n",
       "  [[0, 2, 4], [0, 2, 4]],\n",
       "  [[0, 2, 4], [0, 2, 4], [0, 2, 4], [0, 2, 4]],\n",
       "  [[0, 2, 4], [0, 2, 4]],\n",
       "  [[0, 2, 4]],\n",
       "  [[0, 2, 4], [0, 2, 4], [0, 2, 4]],\n",
       "  [[0, 2, 4], [0, 2, 4], [0, 2, 4]],\n",
       "  [[0, 2, 4]]])"
      ]
     },
     "execution_count": 78,
     "metadata": {},
     "output_type": "execute_result"
    }
   ],
   "source": [
    "temp1,pstate,time = unit_state_transform(u,[[0,1,2]],[1],[[0,2,4]],[0,1],[0,0])\n",
    "id_state(temp1,pstate,time)"
   ]
  },
  {
   "cell_type": "code",
   "execution_count": 79,
   "id": "24dbba55",
   "metadata": {},
   "outputs": [],
   "source": [
    "def time_swap(state,time):\n",
    "    temp_state = []\n",
    "    temp_time = []\n",
    "    for i in range(len(state)):\n",
    "        temp_state.append(state[i][0])\n",
    "        temp_ind_time = []\n",
    "        for j in range(len(state[i])):\n",
    "            temp = state[i][j]\n",
    "            temp1 = state[i][0]\n",
    "            temp2 = time[i][j]\n",
    "            temp3 = []\n",
    "            for k in range(len(temp)): \n",
    "                ind = temp.index(temp1[k])\n",
    "                temp3.append(temp2[ind])\n",
    "                temp = [temp[x] for x in range(len(temp)) if (x is not ind)]\n",
    "                temp2 = [temp2[x] for x in range(len(temp2)) if (x is not ind)]\n",
    "            temp_ind_time.append(temp3)\n",
    "        temp_time.append(temp_ind_time)\n",
    "    return(temp_state,temp_time)"
   ]
  },
  {
   "cell_type": "code",
   "execution_count": 93,
   "id": "e410917d",
   "metadata": {},
   "outputs": [],
   "source": [
    "a , b , c = id_state(temp1,pstate,time)\n",
    "a,c = time_swap(a,c)"
   ]
  },
  {
   "cell_type": "code",
   "execution_count": 94,
   "id": "84f5dd9b",
   "metadata": {},
   "outputs": [
    {
     "data": {
      "text/plain": [
       "[[[0, 2, 4]],\n",
       " [[0, 2, 4]],\n",
       " [[0, 2, 4], [2, 0, 4]],\n",
       " [[0, 2, 4], [0, 4, 2], [2, 0, 4], [2, 4, 0]],\n",
       " [[0, 2, 4], [2, 0, 4]],\n",
       " [[0, 2, 4]],\n",
       " [[0, 2, 4], [0, 4, 2], [2, 4, 0]],\n",
       " [[0, 2, 4], [2, 0, 4], [4, 0, 2]],\n",
       " [[0, 2, 4]]]"
      ]
     },
     "execution_count": 94,
     "metadata": {},
     "output_type": "execute_result"
    }
   ],
   "source": [
    "c"
   ]
  },
  {
   "cell_type": "code",
   "execution_count": 95,
   "id": "6e7ec3a2",
   "metadata": {},
   "outputs": [],
   "source": [
    "def combs(state,prob,time):\n",
    "    temp_time = []\n",
    "    temp_prob = []\n",
    "    for i in range(len(state)):\n",
    "        se = state[i]\n",
    "        if len(se) - len(set(se)) !=0:\n",
    "            temp = list(permutations(list(range(len(se)))))\n",
    "            temp1 = []\n",
    "            for j in range(len(temp)):\n",
    "                temp2 = []\n",
    "                for k in range(len(temp[j])):\n",
    "                    temp2.append(se[temp[j][k]])\n",
    "                if temp2 == se:\n",
    "                    temp1.append(temp[j])\n",
    "            temp2 = []\n",
    "            temp3 = []\n",
    "            for j in range(len(time[i])):\n",
    "                temp4 = time[i][j]\n",
    "                temp5 = prob[i][j]\n",
    "                for k in range(len(temp1)):\n",
    "                    temp6 = []\n",
    "                    for l in range(len(temp1[k])):\n",
    "                        temp6.append(temp4[temp1[k][l]])\n",
    "                    temp2.append(temp6)\n",
    "                    temp3.append(temp5/len(temp1))\n",
    "        else:\n",
    "            temp2 = time[i]\n",
    "            temp3 = prob[i]\n",
    "        temp_time.append(temp2)\n",
    "        temp_prob.append(temp3)\n",
    "    return(state,temp_prob,temp_time)"
   ]
  },
  {
   "cell_type": "code",
   "execution_count": 96,
   "id": "409dd847",
   "metadata": {
    "scrolled": true
   },
   "outputs": [],
   "source": [
    "a,b,c = combs(a,b,c)"
   ]
  },
  {
   "cell_type": "code",
   "execution_count": 92,
   "id": "4f5c7e4b",
   "metadata": {},
   "outputs": [
    {
     "data": {
      "text/plain": [
       "[[0, 0, 1],\n",
       " [0, 0, 2],\n",
       " [0, 1, 1],\n",
       " [0, 1, 2],\n",
       " [0, 2, 2],\n",
       " [1, 1, 1],\n",
       " [1, 1, 2],\n",
       " [1, 2, 2],\n",
       " [2, 2, 2]]"
      ]
     },
     "execution_count": 92,
     "metadata": {},
     "output_type": "execute_result"
    }
   ],
   "source": [
    "a"
   ]
  },
  {
   "cell_type": "code",
   "execution_count": 91,
   "id": "4c2f6fc2",
   "metadata": {},
   "outputs": [
    {
     "data": {
      "text/plain": [
       "[[[0, 2, 4], [2, 0, 4]],\n",
       " [[0, 2, 4], [2, 0, 4]],\n",
       " [[0, 2, 4], [0, 4, 2], [2, 0, 4], [2, 4, 0]],\n",
       " [[0, 2, 4], [0, 4, 2], [2, 0, 4], [2, 4, 0]],\n",
       " [[0, 2, 4], [0, 4, 2], [2, 0, 4], [2, 4, 0]],\n",
       " [[0, 2, 4], [0, 4, 2], [2, 0, 4], [2, 4, 0], [4, 0, 2], [4, 2, 0]],\n",
       " [[0, 2, 4], [2, 0, 4], [0, 4, 2], [4, 0, 2], [2, 4, 0], [4, 2, 0]],\n",
       " [[0, 2, 4], [0, 4, 2], [2, 0, 4], [2, 4, 0], [4, 0, 2], [4, 2, 0]],\n",
       " [[0, 2, 4], [0, 4, 2], [2, 0, 4], [2, 4, 0], [4, 0, 2], [4, 2, 0]]]"
      ]
     },
     "execution_count": 91,
     "metadata": {},
     "output_type": "execute_result"
    }
   ],
   "source": [
    "c"
   ]
  },
  {
   "cell_type": "markdown",
   "id": "a7334396",
   "metadata": {},
   "source": [
    "## INTEGRATION"
   ]
  },
  {
   "cell_type": "code",
   "execution_count": 83,
   "id": "2b315d83",
   "metadata": {},
   "outputs": [],
   "source": [
    "def epsl(t,a):\n",
    "    result = (2*d**2/pi)**(1/4)*exp(-d**2*(a-t)**2)\n",
    "    return(result)"
   ]
  },
  {
   "cell_type": "code",
   "execution_count": 84,
   "id": "c7af0e53",
   "metadata": {},
   "outputs": [],
   "source": [
    "def beta(X,T):\n",
    "    result = 1\n",
    "    for i in range(len(X)):\n",
    "        result = result*epsl(X[i],T[i])\n",
    "    return(result)"
   ]
  },
  {
   "cell_type": "code",
   "execution_count": 85,
   "id": "9682472d",
   "metadata": {},
   "outputs": [],
   "source": [
    "def integrate(n,T1,T2):\n",
    "    step = 10000\n",
    "    temp = limit[0]\n",
    "    temp2 = 0\n",
    "    x = limit[1]-limit[0]\n",
    "    dtt = x/step\n",
    "    X1 = T1[:]\n",
    "    X2 = T2[:]\n",
    "    for i in range(step):\n",
    "        X1[n] = temp\n",
    "        X2[n] = temp\n",
    "        temp2 += beta1(X1,T1)*beta(X2,T2)*(2*d**2/pi)**(-(len(T1)-1)/2)*dtt\n",
    "        temp += dtt\n",
    "    return(temp2)"
   ]
  },
  {
   "cell_type": "code",
   "execution_count": 86,
   "id": "527cb045",
   "metadata": {},
   "outputs": [],
   "source": [
    "def gama(time,prob):\n",
    "    temp = 0\n",
    "    temp2 = int(len(time[0]))\n",
    "    for i in range(len(prob)):\n",
    "        for j in range(len(prob)):\n",
    "            multi = np.conj(prob[i])*prob[j]\n",
    "            for k in range(temp2):\n",
    "                multi = multi*integrate(k,time[i],time[j]) \n",
    "            temp+=multi\n",
    "    \n",
    "    return(temp)"
   ]
  },
  {
   "cell_type": "code",
   "execution_count": 87,
   "id": "5f28bb78",
   "metadata": {},
   "outputs": [],
   "source": [
    "def repetition_multiplier(state_with_copy):\n",
    "    temp1 = list(set(state_with_copy))\n",
    "    temp2 = 1\n",
    "    for i in range(len(temp1)):\n",
    "        temp2 = temp2*factorial(state_with_copy.count(temp1[i]))\n",
    "    return(temp2)\n"
   ]
  },
  {
   "cell_type": "code",
   "execution_count": 107,
   "id": "ff09b52f",
   "metadata": {},
   "outputs": [],
   "source": [
    "def Probability(state,prob,time):\n",
    "    result = {}\n",
    "    for i in range(len(state)):\n",
    "        temp = gama(time[i],prob[i])*repetition_multiplier(state[i])\n",
    "        result[str(state[i])] = temp\n",
    "    return(result)"
   ]
  },
  {
   "cell_type": "code",
   "execution_count": 108,
   "id": "907452ec",
   "metadata": {
    "scrolled": true
   },
   "outputs": [
    {
     "data": {
      "text/plain": [
       "{'[0, 0, 1]': (0.1272894548611118+0j),\n",
       " '[0, 0, 2]': (0.1272894548611118+0j),\n",
       " '[0, 1, 1]': (0.12385451157637806+0j),\n",
       " '[0, 1, 2]': (0.24313315740295466+0j),\n",
       " '[0, 2, 2]': (0.12385451157637806+0j),\n",
       " '[1, 1, 1]': (0.03239511496054727+0j),\n",
       " '[1, 1, 2]': (0.0948943399005644+0j),\n",
       " '[1, 2, 2]': (0.09489433990056441+0j),\n",
       " '[2, 2, 2]': (0.03239511496054727+0j)}"
      ]
     },
     "execution_count": 108,
     "metadata": {},
     "output_type": "execute_result"
    }
   ],
   "source": [
    "Probability(a,b,c)"
   ]
  },
  {
   "cell_type": "code",
   "execution_count": null,
   "id": "76d4defb",
   "metadata": {},
   "outputs": [],
   "source": []
  }
 ],
 "metadata": {
  "kernelspec": {
   "display_name": "Python 3",
   "language": "python",
   "name": "python3"
  },
  "language_info": {
   "codemirror_mode": {
    "name": "ipython",
    "version": 3
   },
   "file_extension": ".py",
   "mimetype": "text/x-python",
   "name": "python",
   "nbconvert_exporter": "python",
   "pygments_lexer": "ipython3",
   "version": "3.9.4"
  }
 },
 "nbformat": 4,
 "nbformat_minor": 5
}
