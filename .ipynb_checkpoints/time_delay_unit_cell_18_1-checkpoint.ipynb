{
 "cells": [
  {
   "cell_type": "code",
   "execution_count": 83,
   "id": "d247efaf",
   "metadata": {},
   "outputs": [],
   "source": [
    "from math import *\n",
    "import numpy as np\n",
    "from itertools import product,permutations\n",
    "from scipy.integrate import quad\n",
    "import matplotlib.pyplot as plt\n",
    "import seaborn as sns\n",
    "d = 1\n",
    "limit = [-8,12]"
   ]
  },
  {
   "cell_type": "code",
   "execution_count": 2,
   "id": "abd3121e",
   "metadata": {},
   "outputs": [],
   "source": [
    "def unit_mat(params,N,m):\n",
    "    [theta,phi] = params\n",
    "    M = np.zeros((N, N), dtype=complex)\n",
    "    M[m,m] = -1j*np.exp(-1j*(theta/2))*np.exp(-1j*phi)*np.sin(theta/2)                     #u11\n",
    "    M[m,m+1] = -1j*np.exp(-1j*(theta/2))*np.exp(-1j*phi)*np.cos(theta/2)                      #u12\n",
    "    M[m+1,m] = -1j*np.exp(-1j*(theta/2))*np.cos(theta/2)                   #u21\n",
    "    M[m+1,m+1] = -1j*np.exp(-1j*(theta/2))*-np.sin(theta/2)                   #u22\n",
    "    for i in range(N):\n",
    "        if M[i,i] ==0+0j and i!=m and i!=m+1:\n",
    "            M[i,i]=1+0j\n",
    "    return (M)"
   ]
  },
  {
   "cell_type": "code",
   "execution_count": 19,
   "id": "6a6ecfdd",
   "metadata": {},
   "outputs": [],
   "source": [
    "def unit_state_transform(u,s,p,t,c,tau):\n",
    "    output_s = []\n",
    "    output_p = []\n",
    "    output_t = []\n",
    "    for k in range(len(s)):\n",
    "        temp_state = s[k]\n",
    "#         comb = list(product(range(len(u)), repeat=len(u)))\n",
    "        comb = list(product(range(len(u)), repeat=len(s[k])))\n",
    "\n",
    "        for i in range(len(comb)):\n",
    "            temp3 = p[k]\n",
    "            temp_t = [i for i in t[k]]\n",
    "            for j in range(len(comb[i])):\n",
    "                temp3 = temp3*u[temp_state[j],comb[i][j]]\n",
    "                if comb[i][j] == c:\n",
    "                    temp_t[j] +=tau[0]\n",
    "                if comb[i][j] == c+1:\n",
    "                    temp_t[j] +=tau[1]\n",
    "            if temp3 !=0:\n",
    "                output_s.append(list(comb[i]))\n",
    "                output_p.append(temp3)\n",
    "                output_t.append(temp_t)\n",
    "    return(output_s,output_p,output_t)"
   ]
  },
  {
   "cell_type": "code",
   "execution_count": 15,
   "id": "4cdf9c05",
   "metadata": {},
   "outputs": [],
   "source": [
    "def photonic_transform(initial_state,pos_unit,params_unit,T,n_channel):\n",
    "#     input_state = [list(range(n_channel))]\n",
    "    input_state = initial_state\n",
    "    input_prob = [1]\n",
    "    input_time = T\n",
    "    for i in range(len(pos_unit)):\n",
    "        mat = unit_mat(params_unit[i][0:2],n_channel,pos_unit[i])\n",
    "        mat = np.transpose(mat)\n",
    "        input_state,input_prob,input_time = unit_state_transform(mat,input_state,input_prob,input_time,pos_unit[i],params_unit[i][2:])\n",
    "        \n",
    "    return(input_state,input_prob,input_time)"
   ]
  },
  {
   "cell_type": "code",
   "execution_count": 5,
   "id": "d984daa6",
   "metadata": {},
   "outputs": [],
   "source": [
    "def id_state(temp1,pstate,time):\n",
    "    temp2 = []\n",
    "    ptemp = []\n",
    "    time_temp = [] \n",
    "    l = len(temp1)\n",
    "    while l >0:\n",
    "        temp3 = temp1[0]\n",
    "        temp4 = []\n",
    "        temp5 = []\n",
    "        for j in range(len(temp1)):\n",
    "            if sorted(temp1[j]) == sorted(temp3):\n",
    "                temp4.append(temp1[j])\n",
    "                temp5.append(j)\n",
    "        temp2.append(temp4)\n",
    "        temp1 = [x for x in temp1 if (x not in temp4)]\n",
    "        ptemp.append([pstate[x] for x in temp5])\n",
    "        time_temp.append([time[x] for x in temp5])\n",
    "        pstate = [pstate[x] for x in range(len(pstate)) if (x not in temp5)]\n",
    "        time = [time[x] for x in range(len(time)) if (x not in temp5)]\n",
    "        l = len(temp1)\n",
    "    return(temp2,ptemp,time_temp)"
   ]
  },
  {
   "cell_type": "code",
   "execution_count": 6,
   "id": "e905bfb3",
   "metadata": {},
   "outputs": [],
   "source": [
    "def time_swap(state,time):\n",
    "    temp_state = []\n",
    "    temp_time = []\n",
    "    for i in range(len(state)):\n",
    "        temp_state.append(state[i][0])\n",
    "        temp_ind_time = []\n",
    "        for j in range(len(state[i])):\n",
    "            temp = state[i][j]\n",
    "            temp1 = state[i][0]\n",
    "            temp2 = time[i][j]\n",
    "            temp3 = []\n",
    "            for k in range(len(temp)): \n",
    "                ind = temp.index(temp1[k])\n",
    "                temp3.append(temp2[ind])\n",
    "                temp = [temp[x] for x in range(len(temp)) if (x is not ind)]\n",
    "                temp2 = [temp2[x] for x in range(len(temp2)) if (x is not ind)]\n",
    "            temp_ind_time.append(temp3)\n",
    "        temp_time.append(temp_ind_time)\n",
    "    return(temp_state,temp_time)"
   ]
  },
  {
   "cell_type": "code",
   "execution_count": 7,
   "id": "47686bb4",
   "metadata": {},
   "outputs": [],
   "source": [
    "def combs(state,prob,time):\n",
    "    temp_time = []\n",
    "    temp_prob = []\n",
    "    for i in range(len(state)):\n",
    "        se = state[i]\n",
    "        if len(se) - len(set(se)) !=0:\n",
    "            temp = list(permutations(list(range(len(se)))))\n",
    "            temp1 = []\n",
    "            for j in range(len(temp)):\n",
    "                temp2 = []\n",
    "                for k in range(len(temp[j])):\n",
    "                    temp2.append(se[temp[j][k]])\n",
    "                if temp2 == se:\n",
    "                    temp1.append(temp[j])\n",
    "            temp2 = []\n",
    "            temp3 = []\n",
    "            for j in range(len(time[i])):\n",
    "                temp4 = time[i][j]\n",
    "                temp5 = prob[i][j]\n",
    "                for k in range(len(temp1)):\n",
    "                    temp6 = []\n",
    "                    for l in range(len(temp1[k])):\n",
    "                        temp6.append(temp4[temp1[k][l]])\n",
    "                    temp2.append(temp6)\n",
    "                    temp3.append(temp5/len(temp1))\n",
    "        else:\n",
    "            temp2 = time[i]\n",
    "            temp3 = prob[i]\n",
    "        temp_time.append(temp2)\n",
    "        temp_prob.append(temp3)\n",
    "    return(state,temp_prob,temp_time)"
   ]
  },
  {
   "cell_type": "markdown",
   "id": "93192946",
   "metadata": {},
   "source": [
    "## INTEGRATION"
   ]
  },
  {
   "cell_type": "code",
   "execution_count": 8,
   "id": "1b19f870",
   "metadata": {},
   "outputs": [],
   "source": [
    "def epsl(t,a):\n",
    "    result = (2*d**2/pi)**(1/4)*exp(-d**2*(a-t)**2)\n",
    "    return(result)"
   ]
  },
  {
   "cell_type": "code",
   "execution_count": 9,
   "id": "967ea0ab",
   "metadata": {},
   "outputs": [],
   "source": [
    "def beta(X,T):\n",
    "    result = 1\n",
    "    for i in range(len(X)):\n",
    "        result = result*epsl(X[i],T[i])\n",
    "    return(result)"
   ]
  },
  {
   "cell_type": "code",
   "execution_count": 10,
   "id": "bbb26e73",
   "metadata": {},
   "outputs": [],
   "source": [
    "def integrate(n,T1,T2):\n",
    "    step = 10000\n",
    "    temp = limit[0]\n",
    "    temp2 = 0\n",
    "    x = limit[1]-limit[0]\n",
    "    dtt = x/step\n",
    "    X1 = T1[:]\n",
    "    X2 = T2[:]\n",
    "    for i in range(step):\n",
    "        X1[n] = temp\n",
    "        X2[n] = temp\n",
    "        temp2 += beta(X1,T1)*beta(X2,T2)*(2*d**2/pi)**(-(len(T1)-1)/2)*dtt\n",
    "        temp += dtt\n",
    "    return(temp2)"
   ]
  },
  {
   "cell_type": "code",
   "execution_count": 11,
   "id": "15a8f290",
   "metadata": {},
   "outputs": [],
   "source": [
    "def gama(time,prob):\n",
    "    temp = 0\n",
    "    temp2 = int(len(time[0]))\n",
    "    for i in range(len(prob)):\n",
    "        for j in range(len(prob)):\n",
    "            multi = np.conj(prob[i])*prob[j]\n",
    "            for k in range(temp2):\n",
    "                multi = multi*integrate(k,time[i],time[j]) \n",
    "            temp+=multi\n",
    "    \n",
    "    return(temp)"
   ]
  },
  {
   "cell_type": "code",
   "execution_count": 12,
   "id": "0b9f5d19",
   "metadata": {},
   "outputs": [],
   "source": [
    "def repetition_multiplier(state_with_copy):\n",
    "    temp1 = list(set(state_with_copy))\n",
    "    temp2 = 1\n",
    "    for i in range(len(temp1)):\n",
    "        temp2 = temp2*factorial(state_with_copy.count(temp1[i]))\n",
    "    return(temp2)\n"
   ]
  },
  {
   "cell_type": "code",
   "execution_count": 76,
   "id": "7e9a48f9",
   "metadata": {},
   "outputs": [],
   "source": [
    "def Probability(state,prob,time):\n",
    "    result = {}\n",
    "    temp2 = 0\n",
    "    for i in range(len(state)):\n",
    "        print(i)\n",
    "        temp = gama(time[i],prob[i])*repetition_multiplier(state[i])\n",
    "        result[str(state[i])] = temp\n",
    "        temp2+=temp\n",
    "    print(temp2)\n",
    "    return(result)"
   ]
  },
  {
   "cell_type": "markdown",
   "id": "7154a9ee",
   "metadata": {},
   "source": [
    "## Calculation"
   ]
  },
  {
   "cell_type": "code",
   "execution_count": 263,
   "id": "37d3c2fd",
   "metadata": {},
   "outputs": [],
   "source": [
    "temp1,pstate,time = photonic_transform([0,1],[[np.pi,np.pi,0,0],[np.pi/2,np.pi,0,0]],[[0,0,0]],3)\n",
    "a , b , c = id_state(temp1,pstate,time)\n",
    "a,c = time_swap(a,c)\n",
    "a,b,c = combs(a,b,c)"
   ]
  },
  {
   "cell_type": "code",
   "execution_count": 264,
   "id": "8470ccff",
   "metadata": {
    "scrolled": true
   },
   "outputs": [
    {
     "name": "stdout",
     "output_type": "stream",
     "text": [
      "(0.9999999999999946+1.4243351618639698e-65j)\n"
     ]
    },
    {
     "data": {
      "text/plain": [
       "{'[0, 0, 1]': (3.749399456654622e-33+0j),\n",
       " '[0, 0, 2]': (3.749399456654622e-33+0j),\n",
       " '[0, 1, 1]': (0.49999999999999717+0j),\n",
       " '[0, 1, 2]': 0j,\n",
       " '[0, 2, 2]': (0.4999999999999974+0j),\n",
       " '[1, 1, 1]': (2.8120495924909686e-33+0j),\n",
       " '[1, 1, 2]': (9.373498641636547e-34+0j),\n",
       " '[1, 2, 2]': (9.37349864163655e-34+1.4243351618639698e-65j),\n",
       " '[2, 2, 2]': (2.81204959249097e-33+0j)}"
      ]
     },
     "execution_count": 264,
     "metadata": {},
     "output_type": "execute_result"
    }
   ],
   "source": [
    "Probability(a,b,c)"
   ]
  },
  {
   "cell_type": "code",
   "execution_count": 251,
   "id": "e25ae36c",
   "metadata": {},
   "outputs": [],
   "source": [
    "def Probability_specific_state(state,prob,time,specific_state):\n",
    "    ind = state.index(specific_state)\n",
    "    temp = gama(time[ind],prob[ind])*repetition_multiplier(state[ind])\n",
    "    return(temp)"
   ]
  },
  {
   "cell_type": "code",
   "execution_count": 266,
   "id": "2d6e5c3d",
   "metadata": {},
   "outputs": [
    {
     "name": "stdout",
     "output_type": "stream",
     "text": [
      "0\n",
      "1\n",
      "2\n",
      "3\n",
      "4\n",
      "5\n",
      "6\n",
      "7\n",
      "8\n",
      "9\n",
      "10\n",
      "11\n",
      "12\n",
      "13\n",
      "14\n",
      "15\n",
      "16\n",
      "17\n",
      "18\n",
      "19\n",
      "20\n",
      "21\n",
      "22\n",
      "23\n",
      "24\n",
      "25\n",
      "26\n",
      "27\n",
      "28\n",
      "29\n",
      "30\n",
      "31\n",
      "32\n",
      "33\n",
      "34\n",
      "35\n",
      "36\n",
      "37\n",
      "38\n",
      "39\n",
      "40\n",
      "41\n",
      "42\n",
      "43\n",
      "44\n",
      "45\n",
      "46\n",
      "47\n",
      "48\n",
      "49\n",
      "50\n"
     ]
    }
   ],
   "source": [
    "p123 = [0]*51\n",
    "Tim = np.linspace(-4,4,51)\n",
    "lim = [-7,7]\n",
    "for i in range(len(p123)):\n",
    "    print(i)\n",
    "    temp1,pstate,time = photonic_transform([0,1],[[np.pi,0,0,Tim[i]],[np.pi/2,0,0,0]],[[0,0,0]],3)\n",
    "    a , b , c = id_state(temp1,pstate,time)\n",
    "    a,c = time_swap(a,c)\n",
    "    a,b,c = combs(a,b,c)\n",
    "    p123[i] = Probability_specific_state(a,b,c,[0,1,2])"
   ]
  },
  {
   "cell_type": "code",
   "execution_count": 267,
   "id": "36dacfc3",
   "metadata": {},
   "outputs": [
    {
     "name": "stderr",
     "output_type": "stream",
     "text": [
      "c:\\users\\kevin\\appdata\\local\\programs\\python\\python39\\lib\\site-packages\\numpy\\core\\_asarray.py:102: ComplexWarning: Casting complex values to real discards the imaginary part\n",
      "  return array(a, dtype, copy=False, order=order)\n"
     ]
    },
    {
     "data": {
      "text/plain": [
       "[<matplotlib.lines.Line2D at 0x257e0a00df0>]"
      ]
     },
     "execution_count": 267,
     "metadata": {},
     "output_type": "execute_result"
    },
    {
     "data": {
      "image/png": "[encoded data removed]",
      "text/plain": [
       "<Figure size 432x288 with 1 Axes>"
      ]
     },
     "metadata": {
      "needs_background": "light"
     },
     "output_type": "display_data"
    }
   ],
   "source": [
    "plt.plot(Tim, p123)"
   ]
  },
  {
   "cell_type": "code",
   "execution_count": 20,
   "id": "5bf4c99e",
   "metadata": {},
   "outputs": [
    {
     "name": "stdout",
     "output_type": "stream",
     "text": [
      "(0.9999999999999961+0j)\n"
     ]
    },
    {
     "data": {
      "text/plain": [
       "{'[0, 0]': (7.498798913309255e-33+0j),\n",
       " '[0, 1]': (0.499999999999998+0j),\n",
       " '[0, 2]': (0.4999999999999981+0j),\n",
       " '[1, 1]': (1.8746997283273145e-33+0j),\n",
       " '[1, 2]': (3.749399456654629e-33+0j),\n",
       " '[2, 2]': (1.8746997283273155e-33+0j)}"
      ]
     },
     "execution_count": 20,
     "metadata": {},
     "output_type": "execute_result"
    }
   ],
   "source": [
    "temp1,pstate,time = photonic_transform([[0,1]],[0,1],[[np.pi,np.pi,0,0],[np.pi/2,np.pi,0,0]],[[0,0,0]],3)\n",
    "a , b , c = id_state(temp1,pstate,time)\n",
    "a,c = time_swap(a,c)\n",
    "a,b,c = combs(a,b,c)\n",
    "Probability(a,b,c)"
   ]
  },
  {
   "cell_type": "code",
   "execution_count": 23,
   "id": "b2505b6d",
   "metadata": {},
   "outputs": [
    {
     "name": "stdout",
     "output_type": "stream",
     "text": [
      "(1.0000000000001061+0j)\n"
     ]
    },
    {
     "data": {
      "text/plain": [
       "{'[0, 1]': (1.8746997283275204e-33+0j),\n",
       " '[0, 2]': (1.8746997283275204e-33+0j),\n",
       " '[1, 1]': (0.25000002813382005+0j),\n",
       " '[1, 2]': (0.4999999437324657+0j),\n",
       " '[2, 2]': (0.2500000281338203+0j)}"
      ]
     },
     "execution_count": 23,
     "metadata": {},
     "output_type": "execute_result"
    }
   ],
   "source": [
    "temp1,pstate,time = photonic_transform([[1,2]],[0,1],[[np.pi,np.pi,0,0],[np.pi/2,np.pi,0,0]],[[0,4]],3)\n",
    "a , b , c = id_state(temp1,pstate,time)\n",
    "a,c = time_swap(a,c)\n",
    "a,b,c = combs(a,b,c)\n",
    "Probability(a,b,c)"
   ]
  },
  {
   "cell_type": "code",
   "execution_count": null,
   "id": "39815b28",
   "metadata": {},
   "outputs": [],
   "source": []
  },
  {
   "cell_type": "code",
   "execution_count": null,
   "id": "62c856fc",
   "metadata": {},
   "outputs": [],
   "source": [
    "p123 = [0]*51\n",
    "Tim = np.linspace(-4,4,51)\n",
    "lim = [-7,7]\n",
    "for i in range(len(p123)):\n",
    "    print(i)\n",
    "    temp1,pstate,time = photonic_transform([[3,4]],[3,2,4,1,3,5,0,2,4,6],[[np.pi/2,np.pi,0,0],[np.pi/2,np.pi,0,0],[np.pi/2,np.pi,0,0],[np.pi/2,np.pi,0,0],[np.pi/2,np.pi,0,0],[np.pi/2,np.pi,0,0],[np.pi/2,np.pi,0,0],[np.pi/2,np.pi,0,0],[np.pi/2,np.pi,0,0],[np.pi/2,np.pi,0,0]],[[0,Tim[i]]],8)\n",
    "    a , b , c = id_state(temp1,pstate,time)\n",
    "    a,c = time_swap(a,c)\n",
    "    a,b,c = combs(a,b,c)\n",
    "    p123[i] = Probability_specific_state(a,b,c,[])"
   ]
  },
  {
   "cell_type": "code",
   "execution_count": 77,
   "id": "c353b133",
   "metadata": {
    "collapsed": true
   },
   "outputs": [
    {
     "name": "stdout",
     "output_type": "stream",
     "text": [
      "0\n",
      "1\n",
      "2\n",
      "3\n",
      "4\n",
      "5\n",
      "6\n",
      "7\n",
      "8\n",
      "9\n",
      "10\n",
      "11\n",
      "12\n",
      "13\n",
      "14\n",
      "15\n",
      "16\n",
      "17\n",
      "18\n",
      "19\n",
      "20\n",
      "21\n",
      "22\n",
      "23\n",
      "24\n",
      "25\n",
      "26\n",
      "27\n",
      "28\n",
      "29\n",
      "30\n",
      "31\n",
      "32\n",
      "33\n",
      "34\n",
      "35\n",
      "(1.0000000000001086-4.285194082914587e-33j)\n"
     ]
    }
   ],
   "source": [
    "temp1,pstate,time = photonic_transform([[3,4]],[3,2,4,1,3,5,0,2,4,6],[[np.pi/2,np.pi,0,0],[np.pi/2,np.pi,0,0],[np.pi/2,np.pi,0,0],[np.pi/2,np.pi,0,0],[np.pi/2,np.pi,0,0],[np.pi/2,np.pi,0,0],[np.pi/2,np.pi,0,0],[np.pi/2,np.pi,0,0],[np.pi/2,np.pi,0,0],[np.pi/2,np.pi,0,0]],[[0,4]],8)\n",
    "a , b , c = id_state(temp1,pstate,time)\n",
    "a,c = time_swap(a,c)\n",
    "a,b,c = combs(a,b,c)\n",
    "result = Probability(a,b,c)"
   ]
  },
  {
   "cell_type": "code",
   "execution_count": 94,
   "id": "e1de4387",
   "metadata": {},
   "outputs": [
    {
     "name": "stderr",
     "output_type": "stream",
     "text": [
      "<ipython-input-94-8d1ae5849d30>:3: ComplexWarning: Casting complex values to real discards the imaginary part\n",
      "  heatmap_data[int(keys[i][1]),int(keys[i][4])] = result[keys[i]]\n",
      "<ipython-input-94-8d1ae5849d30>:4: ComplexWarning: Casting complex values to real discards the imaginary part\n",
      "  heatmap_data[int(keys[i][4]),int(keys[i][1])] = result[keys[i]]\n"
     ]
    }
   ],
   "source": [
    "heatmap_data = np.zeros([8,8])\n",
    "for i in range(len(keys)):\n",
    "    heatmap_data[int(keys[i][1]),int(keys[i][4])] = result[keys[i]]\n",
    "    heatmap_data[int(keys[i][4]),int(keys[i][1])] = result[keys[i]]"
   ]
  },
  {
   "cell_type": "code",
   "execution_count": 98,
   "id": "51a19c47",
   "metadata": {},
   "outputs": [
    {
     "data": {
      "image/png": "[encoded data removed]",
      "text/plain": [
       "<Figure size 432x288 with 2 Axes>"
      ]
     },
     "metadata": {
      "needs_background": "light"
     },
     "output_type": "display_data"
    }
   ],
   "source": [
    "ax = sns.heatmap(heatmap_data, linewidth=0.5)\n",
    "plt.show()"
   ]
  },
  {
   "cell_type": "code",
   "execution_count": 96,
   "id": "26757a72",
   "metadata": {},
   "outputs": [
    {
     "name": "stdout",
     "output_type": "stream",
     "text": [
      "0\n",
      "1\n",
      "2\n",
      "3\n",
      "4\n",
      "5\n",
      "6\n",
      "7\n",
      "8\n",
      "9\n",
      "10\n",
      "11\n",
      "12\n",
      "13\n",
      "14\n",
      "15\n",
      "16\n",
      "17\n",
      "18\n",
      "19\n",
      "20\n",
      "21\n",
      "22\n",
      "23\n",
      "24\n",
      "25\n",
      "26\n",
      "27\n",
      "28\n",
      "29\n",
      "30\n",
      "31\n",
      "32\n",
      "33\n",
      "34\n",
      "35\n",
      "(0.9999999999999988+2.3111159332646803e-33j)\n"
     ]
    }
   ],
   "source": [
    "temp1,pstate,time = photonic_transform([[3,4]],[3,2,4,1,3,5,0,2,4,6],[[np.pi/2,np.pi,0,0],[np.pi/2,np.pi,0,0],[np.pi/2,np.pi,0,0],[np.pi/2,np.pi,0,0],[np.pi/2,np.pi,0,0],[np.pi/2,np.pi,0,0],[np.pi/2,np.pi,0,0],[np.pi/2,np.pi,0,0],[np.pi/2,np.pi,0,0],[np.pi/2,np.pi,0,0]],[[0,0]],8)\n",
    "a , b , c = id_state(temp1,pstate,time)\n",
    "a,c = time_swap(a,c)\n",
    "a,b,c = combs(a,b,c)\n",
    "result = Probability(a,b,c)"
   ]
  },
  {
   "cell_type": "code",
   "execution_count": 97,
   "id": "b4878076",
   "metadata": {},
   "outputs": [
    {
     "name": "stderr",
     "output_type": "stream",
     "text": [
      "<ipython-input-97-a102dc767a79>:3: ComplexWarning: Casting complex values to real discards the imaginary part\n",
      "  heatmap_data[int(keys[i][1]),int(keys[i][4])] = result[keys[i]]\n",
      "<ipython-input-97-a102dc767a79>:4: ComplexWarning: Casting complex values to real discards the imaginary part\n",
      "  heatmap_data[int(keys[i][4]),int(keys[i][1])] = result[keys[i]]\n"
     ]
    },
    {
     "data": {
      "image/png": "[encoded data removed]",
      "text/plain": [
       "<Figure size 432x288 with 2 Axes>"
      ]
     },
     "metadata": {
      "needs_background": "light"
     },
     "output_type": "display_data"
    }
   ],
   "source": [
    "heatmap_data = np.zeros([8,8])\n",
    "for i in range(len(keys)):\n",
    "    heatmap_data[int(keys[i][1]),int(keys[i][4])] = result[keys[i]]\n",
    "    heatmap_data[int(keys[i][4]),int(keys[i][1])] = result[keys[i]]    \n",
    "ax = sns.heatmap(heatmap_data, linewidth=0.5)\n",
    "plt.show()"
   ]
  },
  {
   "cell_type": "code",
   "execution_count": null,
   "id": "e552f305",
   "metadata": {},
   "outputs": [],
   "source": []
  }
 ],
 "metadata": {
  "kernelspec": {
   "display_name": "Python 3",
   "language": "python",
   "name": "python3"
  },
  "language_info": {
   "codemirror_mode": {
    "name": "ipython",
    "version": 3
   },
   "file_extension": ".py",
   "mimetype": "text/x-python",
   "name": "python",
   "nbconvert_exporter": "python",
   "pygments_lexer": "ipython3",
   "version": "3.9.4"
  }
 },
 "nbformat": 4,
 "nbformat_minor": 5
}
