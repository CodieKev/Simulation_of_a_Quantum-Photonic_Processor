{
 "cells": [
  {
   "cell_type": "code",
   "execution_count": 34,
   "id": "b7786647",
   "metadata": {},
   "outputs": [],
   "source": [
    "from math import *\n",
    "import numpy as np\n",
    "from itertools import product,permutations\n",
    "from scipy.integrate import quad\n",
    "# from scipy import integrate\n",
    "import matplotlib.pyplot as plt\n",
    "R1 = 1/sqrt(2)\n",
    "T1 = 1j/sqrt(2)\n",
    "R2 = 1\n",
    "T2 = 0 \n",
    "R3 = 1\n",
    "T3 = 0\n",
    "d = 1"
   ]
  },
  {
   "cell_type": "code",
   "execution_count": 109,
   "id": "116bdef0",
   "metadata": {},
   "outputs": [],
   "source": [
    "s = np.matrix([[R1,T1,0,0],[R3*T1,R3*R1,T3*R2,T3*T2],[T3*T1,T3*R1,R3*R2,R3*T2],[0,0,T2,R2]])\n",
    "u = np.transpose(s)"
   ]
  },
  {
   "cell_type": "code",
   "execution_count": 110,
   "id": "afa6d5d7",
   "metadata": {},
   "outputs": [],
   "source": [
    "# s = np.matrix([[R,T,0],[R*T,R**2,T],[T**2,R*T,R]])\n",
    "# u = np.transpose(s)"
   ]
  },
  {
   "cell_type": "code",
   "execution_count": 111,
   "id": "f74e807d",
   "metadata": {},
   "outputs": [],
   "source": [
    "def transform_multi(u):\n",
    "    comb = list(product(range(len(u)), repeat=len(u)))  \n",
    "    temp = []\n",
    "    temp2 = []\n",
    "    for i in range(len(comb)):\n",
    "        temp3 = 1\n",
    "        for j in range(len(comb[i])):\n",
    "            temp3 = temp3*u[j,comb[i][j]]\n",
    "        if temp3 !=0:\n",
    "            temp.append(list(comb[i]))\n",
    "            temp2.append(temp3)\n",
    "    return(temp,temp2)\n",
    "def id_state(temp1,pstate):\n",
    "    temp2 = []\n",
    "    ptemp = []\n",
    "    l = len(temp1)\n",
    "    while l >0:\n",
    "        temp3 = temp1[0]\n",
    "        temp4 = []\n",
    "        temp5 =[]\n",
    "        for j in range(len(temp1)):\n",
    "            if sorted(temp1[j]) == sorted(temp3):\n",
    "                temp4.append(temp1[j])\n",
    "                temp5.append(j)\n",
    "        temp2.append(temp4)\n",
    "        temp1 = [x for x in temp1 if (x not in temp4)]\n",
    "        ptemp.append([pstate[x] for x in temp5])\n",
    "        pstate = [pstate[x] for x in range(len(pstate)) if (x not in temp5)]\n",
    "        l = len(temp1)\n",
    "    return(temp2,ptemp)\n",
    "def time_list(s):\n",
    "    tim = [list(range(len(s[0])))]*len(s)\n",
    "    timn = []\n",
    "    for i in range(len(s)):\n",
    "        temp = s[i]\n",
    "        temp1 = s[0]\n",
    "        temp2 = tim[0]\n",
    "        temp3 = []\n",
    "        for j in range(len(temp)): \n",
    "            ind = temp1.index(temp[j])\n",
    "            temp3.append(temp2[ind])\n",
    "            temp1 = [temp1[x] for x in range(len(temp1)) if (x is not ind)]\n",
    "            temp2 = [temp2[x] for x in range(len(temp2)) if (x is not ind)]\n",
    "        timn.append(temp3)\n",
    "    return(timn)\n",
    "def replication(se):\n",
    "    if len(se) - len(set(se)) !=0:\n",
    "        temp = list(permutations(list(range(len(se)))))\n",
    "        temp1 = []\n",
    "        for i in range(len(temp)):\n",
    "            temp2 = []\n",
    "            for j in range(len(temp[i])):\n",
    "                temp2.append(se[temp[i][j]])\n",
    "            if temp2 == se:\n",
    "                temp1.append(temp[i])\n",
    "    else:\n",
    "        temp1 = [se]\n",
    "    return(temp1)\n",
    "def parameters(rep,t,p):\n",
    "    temp = []\n",
    "    ptemp = []\n",
    "    for i in range(len(rep)):\n",
    "        temp2 = rep[i]\n",
    "        for j in range(len(t)):\n",
    "            temp3 = t[j]\n",
    "            temp4 = [0]*len(temp3)\n",
    "            for k in range(len(temp2)):\n",
    "                if k == temp2[k]:\n",
    "                    temp4[temp3.index(k)] = k\n",
    "                else:\n",
    "                    temp4[temp3.index(k)] = temp2[k]\n",
    "            temp.append(temp4)\n",
    "            ptemp.append(p[j]/len(rep))\n",
    "    return(temp,ptemp)\n",
    "def state_parameters(state,sp,specific_state):\n",
    "    s1,p1 = id_state(state,sp)\n",
    "    ind = 0\n",
    "    for i in range(len(s1)):\n",
    "        if sorted(specific_state) == sorted(s1[i][0]):\n",
    "            ind = i\n",
    "    s = s1[ind]\n",
    "    p = p1[ind]\n",
    "    t = time_list(s)\n",
    "    ind_state = s[0]\n",
    "    rep = replication(ind_state)\n",
    "    par1,par2 = parameters(rep,t,p)\n",
    "    return(par1,par2)"
   ]
  },
  {
   "cell_type": "markdown",
   "id": "1dc57530",
   "metadata": {},
   "source": [
    "# Beta"
   ]
  },
  {
   "cell_type": "code",
   "execution_count": 112,
   "id": "8f62f9cb",
   "metadata": {},
   "outputs": [],
   "source": [
    "state,sp = transform_multi(u)"
   ]
  },
  {
   "cell_type": "code",
   "execution_count": 113,
   "id": "2218958f",
   "metadata": {},
   "outputs": [
    {
     "data": {
      "text/plain": [
       "[[0, 0, 2, 3], [0, 1, 2, 3], [1, 0, 2, 3], [1, 1, 2, 3]]"
      ]
     },
     "execution_count": 113,
     "metadata": {},
     "output_type": "execute_result"
    }
   ],
   "source": [
    "state"
   ]
  },
  {
   "cell_type": "code",
   "execution_count": 114,
   "id": "fad76da0",
   "metadata": {},
   "outputs": [
    {
     "data": {
      "text/plain": [
       "[0.4999999999999999j,\n",
       " (0.4999999999999999+0j),\n",
       " (-0.4999999999999999+0j),\n",
       " 0.4999999999999999j]"
      ]
     },
     "execution_count": 114,
     "metadata": {},
     "output_type": "execute_result"
    }
   ],
   "source": [
    "sp"
   ]
  },
  {
   "cell_type": "code",
   "execution_count": 135,
   "id": "5e4923bb",
   "metadata": {},
   "outputs": [
    {
     "data": {
      "text/plain": [
       "([[[0, 0, 2, 3]], [[0, 1, 2, 3], [1, 0, 2, 3]], [[1, 1, 2, 3]]],\n",
       " [[0.4999999999999999j],\n",
       "  [(0.4999999999999999+0j), (-0.4999999999999999+0j)],\n",
       "  [0.4999999999999999j]])"
      ]
     },
     "execution_count": 135,
     "metadata": {},
     "output_type": "execute_result"
    }
   ],
   "source": [
    "id_state(state,sp)"
   ]
  },
  {
   "cell_type": "code",
   "execution_count": 75,
   "id": "5b5bdcdc",
   "metadata": {},
   "outputs": [],
   "source": [
    "def epsl(t,a):\n",
    "    result = (2*d**2/pi)**(1/4)*exp(-d**2*(a-t)**2)\n",
    "    return(result)               \n",
    "def beta(x,y,z,t1,t2,t3):\n",
    "    result = epsl(x,t1)*epsl(y,t2)*epsl(z,t3)\n",
    "    return(result)\n",
    "def gama(x,y,z):\n",
    "    add = 0\n",
    "    for i in range(len(V)):\n",
    "        add += V[i]*beta(x,y,z,Stamp[3*i+0],Stamp[3*i+1],Stamp[3*i+2])\n",
    "    result = (np.conj(add)*(add)).real\n",
    "    return(result)\n",
    "def time_stamp(time_state,time_mode):\n",
    "    temp = []\n",
    "    for i in range(len(time_state)):\n",
    "        for j in range(len(time_state[i])):\n",
    "#             print(i,j,time_state[i],time_state[i].index(j),time_mode)\n",
    "            temp.append(time_mode[time_state[i].index(j)])\n",
    "    return(temp)"
   ]
  },
  {
   "cell_type": "code",
   "execution_count": 137,
   "id": "33d5c073",
   "metadata": {},
   "outputs": [
    {
     "data": {
      "text/plain": [
       "[0, 4, 8, 8, 4, 0, 8, 8]"
      ]
     },
     "execution_count": 137,
     "metadata": {},
     "output_type": "execute_result"
    }
   ],
   "source": [
    "time_mode = [0,4,8,8]\n",
    "time_state,V = state_parameters(state,sp,[0,0,2,3])\n",
    "time_stamp(time_state,time_mode)"
   ]
  },
  {
   "cell_type": "code",
   "execution_count": 121,
   "id": "9270af73",
   "metadata": {},
   "outputs": [],
   "source": [
    "limit = [-8,12]\n",
    "time_mode = [0,0,8,8]\n",
    "# Stamp = time_stamp(time_state,time_mode)"
   ]
  },
  {
   "cell_type": "code",
   "execution_count": 122,
   "id": "1b352b4a",
   "metadata": {},
   "outputs": [],
   "source": [
    "def beta1(X,T):\n",
    "    result = 1\n",
    "    for i in range(len(X)):\n",
    "        result = result*epsl(X[i],T[i])\n",
    "    return(result)"
   ]
  },
  {
   "cell_type": "code",
   "execution_count": 140,
   "id": "1ce99f68",
   "metadata": {},
   "outputs": [],
   "source": [
    "def integrate(n,T1,T2):\n",
    "    step = 10000\n",
    "    temp = limit[0]\n",
    "    temp2 = 0\n",
    "    x = limit[1]-limit[0]\n",
    "    dtt = x/step\n",
    "    X1 = T1[:]\n",
    "    X2 = T2[:]\n",
    "    for i in range(step):\n",
    "        X1[n] = temp\n",
    "        X2[n] = temp\n",
    "        temp2 += beta1(X1,T1)*beta1(X2,T2)*(2*d**2/pi)**(-(len(T1)-1)/2)*dtt\n",
    "        temp += dtt\n",
    "    return(temp2)"
   ]
  },
  {
   "cell_type": "code",
   "execution_count": 176,
   "id": "fb48ffdf",
   "metadata": {},
   "outputs": [],
   "source": [
    "def gama2(temp_stamp,temp_V):\n",
    "    temp = 0\n",
    "    temp2 = int(len(temp_stamp)/len(temp_V))\n",
    "    for i in range(len(temp_V)):\n",
    "        for j in range(len(temp_V)):\n",
    "            T1 = []\n",
    "            T2 = []\n",
    "            for k in range(temp2):\n",
    "                T1.append(temp_stamp[temp2*i+k])\n",
    "                T2.append(temp_stamp[temp2*j+k])\n",
    "            multi = np.conj(temp_V[i])*temp_V[j]\n",
    "            for k in range(temp2):\n",
    "                multi = multi*integrate(k,T1,T2) \n",
    "            temp+=multi\n",
    "    \n",
    "    return(temp)"
   ]
  },
  {
   "cell_type": "code",
   "execution_count": 177,
   "id": "6c3934a1",
   "metadata": {},
   "outputs": [],
   "source": [
    "def repetition_multiplier(state_with_copy):\n",
    "    temp1 = list(set(state_with_copy))\n",
    "    temp2 = 1\n",
    "    for i in range(len(temp1)):\n",
    "        temp2 = temp2*factorial(state_with_copy.count(temp1[i]))\n",
    "    return(temp2)\n"
   ]
  },
  {
   "cell_type": "code",
   "execution_count": 178,
   "id": "51766108",
   "metadata": {},
   "outputs": [],
   "source": [
    "def Probability(state,sp,unique_state,temp_time_mode):\n",
    "    temp_time_state,temp_V = state_parameters(state,sp,unique_state)\n",
    "    temp_stamp = time_stamp(temp_time_state,temp_time_mode)\n",
    "    result = gama2(temp_stamp,temp_V)*repetition_multiplier(unique_state)\n",
    "    return(result)"
   ]
  },
  {
   "cell_type": "code",
   "execution_count": 181,
   "id": "f0263d50",
   "metadata": {},
   "outputs": [
    {
     "data": {
      "text/plain": [
       "0j"
      ]
     },
     "execution_count": 181,
     "metadata": {},
     "output_type": "execute_result"
    }
   ],
   "source": [
    "Probability(state,sp,[0,1,2,3], [0,0,8,8])"
   ]
  },
  {
   "cell_type": "code",
   "execution_count": 184,
   "id": "faeeafec",
   "metadata": {},
   "outputs": [
    {
     "name": "stdout",
     "output_type": "stream",
     "text": [
      "[0, 0, 2, 3] (0.25000002813376365+0j)\n",
      "[0, 1, 2, 3] (0.49999994373235257+0j)\n",
      "[1, 1, 2, 3] (0.25000002813376365+0j)\n"
     ]
    },
    {
     "data": {
      "text/plain": [
       "(0.9999999999998799+0j)"
      ]
     },
     "execution_count": 184,
     "metadata": {},
     "output_type": "execute_result"
    }
   ],
   "source": [
    "temp = 0 \n",
    "unique,dddd = id_state(state,sp)\n",
    "for i in range(len(unique)):\n",
    "    temp1 = Probability(state,sp,unique[i][0],time_mode)\n",
    "    temp+=temp1\n",
    "    print(unique[i][0],temp1)\n",
    "temp"
   ]
  },
  {
   "cell_type": "code",
   "execution_count": 183,
   "id": "6deeb2f0",
   "metadata": {},
   "outputs": [
    {
     "name": "stdout",
     "output_type": "stream",
     "text": [
      "0\n",
      "1\n",
      "2\n",
      "3\n",
      "4\n",
      "5\n",
      "6\n",
      "7\n",
      "8\n",
      "9\n",
      "10\n",
      "11\n",
      "12\n",
      "13\n",
      "14\n",
      "15\n",
      "16\n",
      "17\n",
      "18\n",
      "19\n",
      "20\n",
      "21\n",
      "22\n",
      "23\n",
      "24\n",
      "25\n",
      "26\n",
      "27\n",
      "28\n",
      "29\n",
      "30\n",
      "31\n",
      "32\n",
      "33\n",
      "34\n",
      "35\n",
      "36\n",
      "37\n",
      "38\n",
      "39\n",
      "40\n",
      "41\n",
      "42\n",
      "43\n",
      "44\n",
      "45\n",
      "46\n",
      "47\n",
      "48\n",
      "49\n",
      "50\n"
     ]
    },
    {
     "name": "stderr",
     "output_type": "stream",
     "text": [
      "c:\\users\\kevin\\appdata\\local\\programs\\python\\python39\\lib\\site-packages\\numpy\\core\\_asarray.py:102: ComplexWarning: Casting complex values to real discards the imaginary part\n",
      "  return array(a, dtype, copy=False, order=order)\n"
     ]
    },
    {
     "data": {
      "text/plain": [
       "[<matplotlib.lines.Line2D at 0x1878f0ddbb0>]"
      ]
     },
     "execution_count": 183,
     "metadata": {},
     "output_type": "execute_result"
    },
    {
     "data": {
      "image/png": "[encoded data removed]",
      "text/plain": [
       "<Figure size 432x288 with 1 Axes>"
      ]
     },
     "metadata": {
      "needs_background": "light"
     },
     "output_type": "display_data"
    }
   ],
   "source": [
    "Tim = np.linspace(-4,4,51)\n",
    "p01 = [0]*51\n",
    "for i in range(51):\n",
    "    t = Tim[i]\n",
    "    print(i)\n",
    "    time_mode = [0,t,8,8]\n",
    "    prob = Probability(state,sp,[0,1,2,3],time_mode)\n",
    "    p01[i] = prob\n",
    "plt.plot(Tim, p01)"
   ]
  },
  {
   "cell_type": "code",
   "execution_count": 60,
   "id": "9bcf10f2",
   "metadata": {},
   "outputs": [],
   "source": [
    "unique, ppp = id_state(state,sp)"
   ]
  },
  {
   "cell_type": "code",
   "execution_count": 66,
   "id": "81c634d4",
   "metadata": {},
   "outputs": [
    {
     "data": {
      "text/plain": [
       "[[2, 2, 2]]"
      ]
     },
     "execution_count": 66,
     "metadata": {},
     "output_type": "execute_result"
    }
   ],
   "source": [
    "unique[8]"
   ]
  },
  {
   "cell_type": "code",
   "execution_count": 68,
   "id": "b02e0cd8",
   "metadata": {},
   "outputs": [
    {
     "data": {
      "text/plain": [
       "(0.6041666408773512+0j)"
      ]
     },
     "execution_count": 68,
     "metadata": {},
     "output_type": "execute_result"
    }
   ],
   "source": [
    "temp"
   ]
  },
  {
   "cell_type": "markdown",
   "id": "fee309d5",
   "metadata": {},
   "source": [
    "# Scipy"
   ]
  },
  {
   "cell_type": "code",
   "execution_count": 101,
   "id": "1110b2db",
   "metadata": {
    "collapsed": true
   },
   "outputs": [
    {
     "name": "stdout",
     "output_type": "stream",
     "text": [
      "0\n",
      "1\n",
      "2\n",
      "3\n",
      "4\n",
      "5\n",
      "6\n",
      "7\n",
      "8\n",
      "9\n",
      "10\n",
      "11\n",
      "12\n",
      "13\n",
      "14\n",
      "15\n",
      "16\n",
      "17\n",
      "18\n",
      "19\n",
      "20\n",
      "21\n",
      "22\n",
      "23\n",
      "24\n",
      "25\n",
      "26\n",
      "27\n",
      "28\n",
      "29\n",
      "30\n",
      "31\n",
      "32\n",
      "33\n",
      "34\n",
      "35\n",
      "36\n",
      "37\n",
      "38\n",
      "39\n",
      "40\n",
      "41\n",
      "42\n",
      "43\n",
      "44\n",
      "45\n",
      "46\n",
      "47\n",
      "48\n",
      "49\n",
      "50\n"
     ]
    }
   ],
   "source": [
    "p123 = [0]*51\n",
    "time_state,V = state_parameters(state,sp,[0,1,2])\n",
    "for i in range(51):\n",
    "    print(i)\n",
    "    t = Tim[i]\n",
    "    time_mode = [0,t,8]\n",
    "    Stamp = time_stamp(time_state,time_mode)\n",
    "    prob = integrate.tplquad(gama, -8, 12, lambda x: -8, lambda x: 12,lambda x, y: -8, lambda x, y: 12)[0]\n",
    "    p123[i] = prob"
   ]
  },
  {
   "cell_type": "code",
   "execution_count": 102,
   "id": "be09d540",
   "metadata": {
    "collapsed": true
   },
   "outputs": [
    {
     "name": "stdout",
     "output_type": "stream",
     "text": [
      "0\n",
      "1\n",
      "2\n",
      "3\n",
      "4\n",
      "5\n",
      "6\n",
      "7\n",
      "8\n",
      "9\n",
      "10\n",
      "11\n",
      "12\n",
      "13\n",
      "14\n",
      "15\n",
      "16\n",
      "17\n",
      "18\n",
      "19\n",
      "20\n",
      "21\n",
      "22\n",
      "23\n",
      "24\n",
      "25\n",
      "26\n",
      "27\n",
      "28\n",
      "29\n",
      "30\n",
      "31\n",
      "32\n",
      "33\n",
      "34\n",
      "35\n",
      "36\n",
      "37\n",
      "38\n",
      "39\n",
      "40\n",
      "41\n",
      "42\n",
      "43\n",
      "44\n",
      "45\n",
      "46\n",
      "47\n",
      "48\n",
      "49\n",
      "50\n"
     ]
    }
   ],
   "source": [
    "p133 = [0]*51\n",
    "time_state,V = state_parameters(state,sp,[0,2,2])\n",
    "for i in range(51):\n",
    "    print(i)\n",
    "    t = Tim[i]\n",
    "    time_mode = [0,t,8]\n",
    "    Stamp = time_stamp(time_state,time_mode)\n",
    "    prob = integrate.tplquad(gama, -8, 12, lambda x: -8, lambda x: 12,lambda x, y: -8, lambda x, y: 12)[0]\n",
    "    p133[i] = prob"
   ]
  },
  {
   "cell_type": "code",
   "execution_count": 30,
   "id": "887b149f",
   "metadata": {},
   "outputs": [],
   "source": []
  },
  {
   "cell_type": "code",
   "execution_count": 103,
   "id": "e0c8b995",
   "metadata": {
    "collapsed": true
   },
   "outputs": [
    {
     "name": "stdout",
     "output_type": "stream",
     "text": [
      "0\n",
      "1\n",
      "2\n",
      "3\n",
      "4\n",
      "5\n",
      "6\n",
      "7\n",
      "8\n",
      "9\n",
      "10\n",
      "11\n",
      "12\n",
      "13\n",
      "14\n",
      "15\n",
      "16\n",
      "17\n",
      "18\n",
      "19\n",
      "20\n",
      "21\n",
      "22\n",
      "23\n",
      "24\n",
      "25\n",
      "26\n",
      "27\n",
      "28\n",
      "29\n",
      "30\n",
      "31\n",
      "32\n",
      "33\n",
      "34\n",
      "35\n",
      "36\n",
      "37\n",
      "38\n",
      "39\n",
      "40\n",
      "41\n",
      "42\n",
      "43\n",
      "44\n",
      "45\n",
      "46\n",
      "47\n",
      "48\n",
      "49\n",
      "50\n"
     ]
    }
   ],
   "source": [
    "p122 = [0]*51\n",
    "time_state,V = state_parameters(state,sp,[0,1,1])\n",
    "for i in range(51):\n",
    "    print(i)\n",
    "    t = Tim[i]\n",
    "    time_mode = [0,t,8]\n",
    "    Stamp = time_stamp(time_state,time_mode)\n",
    "    prob = integrate.tplquad(gama, -8, 12, lambda x: -8, lambda x: 12,lambda x, y: -8, lambda x, y: 12)[0]\n",
    "    p122[i] = prob"
   ]
  },
  {
   "cell_type": "code",
   "execution_count": 104,
   "id": "17c3d855",
   "metadata": {},
   "outputs": [],
   "source": [
    "Hom = np.array(p133)+np.array(p123)+np.array(p122)"
   ]
  },
  {
   "cell_type": "code",
   "execution_count": 105,
   "id": "4536db15",
   "metadata": {
    "scrolled": true
   },
   "outputs": [
    {
     "data": {
      "image/png": "[encoded data removed]",
      "text/plain": [
       "<Figure size 432x288 with 4 Axes>"
      ]
     },
     "metadata": {
      "needs_background": "light"
     },
     "output_type": "display_data"
    }
   ],
   "source": [
    "plt.subplot(221)\n",
    "plt.plot(Tim, p122)\n",
    "plt.subplot(222)\n",
    "plt.plot(Tim, p123)\n",
    "plt.subplot(223)\n",
    "plt.plot(Tim, p133)\n",
    "plt.subplot(224)\n",
    "plt.plot(Tim, Hom)\n",
    "plt.show()"
   ]
  },
  {
   "cell_type": "code",
   "execution_count": null,
   "id": "f94a2d7d",
   "metadata": {},
   "outputs": [],
   "source": []
  }
 ],
 "metadata": {
  "kernelspec": {
   "display_name": "Python 3",
   "language": "python",
   "name": "python3"
  },
  "language_info": {
   "codemirror_mode": {
    "name": "ipython",
    "version": 3
   },
   "file_extension": ".py",
   "mimetype": "text/x-python",
   "name": "python",
   "nbconvert_exporter": "python",
   "pygments_lexer": "ipython3",
   "version": "3.9.4"
  }
 },
 "nbformat": 4,
 "nbformat_minor": 5
}
